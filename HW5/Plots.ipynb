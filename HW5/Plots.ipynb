{
 "cells": [
  {
   "cell_type": "code",
   "execution_count": 90,
   "metadata": {},
   "outputs": [
    {
     "data": {
      "image/png": "[encoded data removed]",
      "text/plain": [
       "<Figure size 600x800 with 2 Axes>"
      ]
     },
     "metadata": {},
     "output_type": "display_data"
    }
   ],
   "source": [
    "import matplotlib.pyplot as plt\n",
    "import numpy as np\n",
    "\n",
    "def f(x, r):\n",
    "    return r * x * (1 - x)\n",
    "\n",
    "# Define the range of x values\n",
    "x = np.linspace(0, 1, 100)\n",
    "\n",
    "# Define the value of r\n",
    "r = 2\n",
    "\n",
    "# Calculate the corresponding y values\n",
    "y = f(x, r)\n",
    "\n",
    "# Scale the y values\n",
    "y_scaled = y / np.max(y)\n",
    "\n",
    "# Create a figure and two subplots\n",
    "fig, (ax1, ax2) = plt.subplots(2, 1, figsize=(6, 8))\n",
    "\n",
    "# Plot the first function with vertical lines\n",
    "ax1.plot(x, x, '-', lw=1)\n",
    "ax1.plot(x, y_scaled, '-', lw=1)\n",
    "ax1.axvline(0.5, color='black', lw=0.5)\n",
    "ax1.axvline(0.039, color='black', lw=0.5)\n",
    "ax1.axvline(0.145, color='black', lw=0.5)\n",
    "ax1.axvline(0.853, color='black', lw=0.5)\n",
    "ax1.axvline(0.959, color='black', lw=0.5)\n",
    "ax1.axhline(0.5, color='black', lw=0.5)\n",
    "ax1.axhline(0.152, color='black', lw=0.5)\n",
    "ax1.grid(False)\n",
    "ax1.set_ylim(0, 1)\n",
    "ax1.set_xlim(0, 1)\n",
    "ax1.set_xticks([0, 0.5, 1])\n",
    "ax1.set_yticks([0, 0.5, 1])\n",
    "\n",
    "# Plot the second function without boxing lines\n",
    "ax2.axhline(0.8, color='black', lw=0.5)\n",
    "ax2.axhline(0.6, color='black', lw=0.5)\n",
    "ax2.axhline(0.4, color='black', lw=0.5)\n",
    "ax2.grid(False)\n",
    "ax2.set_ylim(0, 1)\n",
    "ax2.set_xlim(0, 1)\n",
    "\n",
    "# Remove ticks and tick labels from the second plot\n",
    "ax2.set_xticks([])\n",
    "ax2.set_yticks([])\n",
    "ax2.set_xticklabels([])\n",
    "ax2.set_yticklabels([])\n",
    "\n",
    "# Remove spines from the second plot\n",
    "ax2.spines['top'].set_visible(False)\n",
    "ax2.spines['right'].set_visible(False)\n",
    "ax2.spines['bottom'].set_visible(False)\n",
    "ax2.spines['left'].set_visible(False)\n",
    "\n",
    "\n",
    "# Adjust spacing between subplots\n",
    "plt.subplots_adjust(hspace=0.1)\n",
    "\n",
    "plt.show()\n"
   ]
  },
  {
   "cell_type": "code",
   "execution_count": 101,
   "metadata": {},
   "outputs": [
    {
     "name": "stdout",
     "output_type": "stream",
     "text": [
      "Probability of A: 0.50152\n",
      "Probability of B: 0.49849\n"
     ]
    }
   ],
   "source": [
    "# Define the function f(x, r)\n",
    "def f(x, r):\n",
    "    return r * x * (1 - x)\n",
    "\n",
    "# Define the parameters\n",
    "steps = 10**5\n",
    "x_0 = 0.6\n",
    "A = 1\n",
    "B = 0\n",
    "r = 4  # You need to define the value of r\n",
    "\n",
    "# Run the simulation\n",
    "for i in range(steps):\n",
    "    x_0 = f(x_0, r)\n",
    "    if x_0 <= 0.5:\n",
    "        A += 1\n",
    "    else:\n",
    "        B += 1\n",
    "\n",
    "# Calculate probabilities\n",
    "probA = A / steps\n",
    "probB = B / steps\n",
    "\n",
    "# Print probabilities\n",
    "print(f'Probability of A: {probA}')\n",
    "print(f'Probability of B: {probB}')\n"
   ]
  },
  {
   "cell_type": "code",
   "execution_count": 109,
   "metadata": {},
   "outputs": [
    {
     "name": "stdout",
     "output_type": "stream",
     "text": [
      "Probability of old A: 0.36373\n",
      "Probability of old B: 0.63627\n",
      "\n",
      "Probability of new A: 0.5\n",
      "Probability of new B: 0.5\n"
     ]
    }
   ],
   "source": [
    "# read in the csv file pop_series.csv \n",
    "\n",
    "oldA = [0.0,0.5]\n",
    "oldB = [0.5,1.0]\n",
    "newA = [0.324,0.6004]\n",
    "newB = [0.7884864, 0.9]\n",
    "\n",
    "counterOldA = 0\n",
    "counterOldB = 0\n",
    "counterNewA = 0\n",
    "counterNewB = 0\n",
    "\n",
    "# open the file and read content line by line\n",
    "with open('pop_series.csv', 'r') as file:\n",
    "    lines = file.readlines()\n",
    "    for value in lines:\n",
    "        if newA[0] <= float(value) <= newA[1]:\n",
    "            counterNewA += 1\n",
    "        if newB[0] < float(value) <= newB[1]:\n",
    "            counterNewB += 1\n",
    "        if oldA[0] <= float(value) <= oldA[1]:\n",
    "            counterOldA += 1\n",
    "        if oldB[0] < float(value) <= oldB[1]:\n",
    "            counterOldB += 1\n",
    "\n",
    "\n",
    "oldTotal = counterOldA + counterOldB\n",
    "#print(counterOldA, counterOldB, oldTotal)\n",
    "probOldA = counterOldA / oldTotal\n",
    "probOldB = counterOldB / oldTotal\n",
    "\n",
    "newTotal = counterNewA + counterNewB\n",
    "#print(counterNewA, counterNewB, newTotal)\n",
    "probNewA = counterNewA / newTotal\n",
    "probNewB = counterNewB / newTotal\n",
    "\n",
    "print(f'Probability of old A: {probOldA}')\n",
    "print(f'Probability of old B: {probOldB}')\n",
    "print('')\n",
    "print(f'Probability of new A: {probNewA}')\n",
    "print(f'Probability of new B: {probNewB}')"
   ]
  }
 ],
 "metadata": {
  "kernelspec": {
   "display_name": "base",
   "language": "python",
   "name": "python3"
  },
  "language_info": {
   "codemirror_mode": {
    "name": "ipython",
    "version": 3
   },
   "file_extension": ".py",
   "mimetype": "text/x-python",
   "name": "python",
   "nbconvert_exporter": "python",
   "pygments_lexer": "ipython3",
   "version": "3.10.9"
  }
 },
 "nbformat": 4,
 "nbformat_minor": 2
}
